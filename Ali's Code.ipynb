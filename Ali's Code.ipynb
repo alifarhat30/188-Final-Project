{
 "cells": [
  {
   "cell_type": "markdown",
   "metadata": {},
   "source": [
    "# Final Project Code"
   ]
  },
  {
   "cell_type": "code",
   "execution_count": 23,
   "metadata": {},
   "outputs": [],
   "source": [
    "%matplotlib inline\n",
    "import numpy as np\n",
    "import scipy as sp\n",
    "import matplotlib.pyplot as plt\n",
    "import matplotlib.image as mpimg\n",
    "import sklearn as skl\n",
    "from scipy.io import loadmat\n",
    "import pandas as pd\n",
    "from sklearn.preprocessing import scale\n",
    "from sklearn import cross_validation\n",
    "from sklearn.preprocessing import scale\n",
    "from sklearn.cross_decomposition import PLSRegression\n",
    "from scipy import stats\n",
    "from sklearn.linear_model import LogisticRegression\n",
    "from sklearn.cross_validation import train_test_split"
   ]
  },
  {
   "cell_type": "code",
   "execution_count": 24,
   "metadata": {},
   "outputs": [],
   "source": [
    "#Load the data\n",
    "data = np.loadtxt(\"breast-cancer-wisconsin.data.csv\", delimiter=\",\")\n",
    "\n",
    "#change 2 to 0 and 4 to 1\n",
    "for i in range(len(data)):\n",
    "    if data[i,10] == 2:\n",
    "        data[i,10] = 0\n",
    "    elif data[i,10] == 4:\n",
    "        data[i,10] = 1\n",
    "        \n",
    "X = data[:,1:10]\n",
    "Y = data[:,10]"
   ]
  },
  {
   "cell_type": "markdown",
   "metadata": {},
   "source": [
    "# PLS-DA"
   ]
  },
  {
   "cell_type": "code",
   "execution_count": 25,
   "metadata": {},
   "outputs": [
    {
     "data": {
      "image/png": "[encoded data removed]",
      "text/plain": [
       "<matplotlib.figure.Figure at 0x219b33f3b38>"
      ]
     },
     "metadata": {},
     "output_type": "display_data"
    },
    {
     "name": "stdout",
     "output_type": "stream",
     "text": [
      "[ 0.81397888  0.83974134  0.84295668  0.84325165  0.84329905  0.84332356\n",
      "  0.84332412  0.84332413  0.84332413]\n"
     ]
    }
   ],
   "source": [
    "#Perform PLS-DA\n",
    "n = 10\n",
    "R2Y = np.zeros(n-1)\n",
    "for i in range(1,n):\n",
    "    PLS = PLSRegression(n_components = i, max_iter = 1000)\n",
    "    #now we can call functions on PLS such as \"PLS.fit\"\n",
    "\n",
    "    xScores, yScores = PLS.fit_transform(scale(X), scale(Y)) # xSc is not the same as PLS.x_scores_\n",
    "\n",
    "    R2Y[i-1] = PLS.score(scale(X), scale(Y))\n",
    "\n",
    "    #Y_predict = PLS.predict(X)\n",
    "    #R2Y[i-1] = 1 - (np.sum(Y_predict - Y48)**2) / np.sum(Y48)**2\n",
    "\n",
    "plt.figure()\n",
    "plt.scatter(np.arange(1,n), R2Y)\n",
    "plt.xlabel(\"number of principal components\")\n",
    "plt.ylabel(\"R2Y\")\n",
    "plt.grid()\n",
    "plt.show()\n",
    "print(R2Y)"
   ]
  },
  {
   "cell_type": "code",
   "execution_count": 26,
   "metadata": {},
   "outputs": [],
   "source": [
    "#Choose 2 components\n",
    "PLS = PLSRegression(n_components = 2, max_iter = 1000)\n",
    "xScores1, yScores = PLS.fit_transform(scale(X), scale(Y))\n",
    "xloadings = PLS.x_loadings_\n",
    "yloadings = PLS.y_loadings_"
   ]
  },
  {
   "cell_type": "code",
   "execution_count": 27,
   "metadata": {},
   "outputs": [
    {
     "data": {
      "image/png": "[encoded data removed]",
      "text/plain": [
       "<matplotlib.figure.Figure at 0x219b33f34a8>"
      ]
     },
     "metadata": {},
     "output_type": "display_data"
    }
   ],
   "source": [
    "#Overlay X and y Loadings\n",
    "labels = ['Clump Thickness', 'Uniformity of Cell Size', 'Uniformity of Cell Shape','Marginal Adhesion','Single Epithelial Cell Size','Bare Nuclei','Bland Chromatin','Normal Nucleoli','Mitoses']\n",
    "for i in range(len(xloadings)):\n",
    "    plt.scatter(xloadings[i,0], xloadings[i,1], label = labels[i] )\n",
    "\n",
    "plt.scatter(yloadings[:,0], yloadings[:,1], c = 'k', label = 'Y-loadings')\n",
    "plt.legend(loc = 2)\n",
    "plt.show()"
   ]
  },
  {
   "cell_type": "code",
   "execution_count": 28,
   "metadata": {},
   "outputs": [],
   "source": [
    "#Predict Y\n",
    "#Y_predicted = PLS.predict(scale(X))"
   ]
  },
  {
   "cell_type": "code",
   "execution_count": 29,
   "metadata": {},
   "outputs": [],
   "source": [
    "from sklearn.model_selection import LeaveOneOut\n",
    "loo = LeaveOneOut()\n",
    "yplsda = np.zeros(len(Y))\n",
    "Xda = scale(X)\n",
    "Yda = scale(Y)\n",
    "for train_index, test_index in loo.split(X):\n",
    "    X_train, X_test = Xda[train_index], Xda[test_index]\n",
    "    Y_train, Y_test = Yda[train_index], Yda[test_index]\n",
    "    PLS = PLSRegression(n_components = 2, max_iter = 1000)\n",
    "    xScores, yScores = PLS.fit_transform(X_train, Y_train)\n",
    "    yplsda[test_index] = PLS.predict(X_test)"
   ]
  },
  {
   "cell_type": "code",
   "execution_count": 30,
   "metadata": {},
   "outputs": [
    {
     "name": "stdout",
     "output_type": "stream",
     "text": [
      "[[431  13]\n",
      " [  5 234]]\n"
     ]
    }
   ],
   "source": [
    "#Create a cutoff for what is classified as 0 vs 1\n",
    "from sklearn.metrics import confusion_matrix\n",
    "yplsda_pred = np.zeros(len(Y))\n",
    "j = -1\n",
    "for i in yplsda:\n",
    "    j = j +1\n",
    "    if i>0:\n",
    "        yplsda_pred[j] = 1\n",
    "    else:\n",
    "        yplsda_pred[j] = 0\n",
    "\n",
    "confusions_matrix = confusion_matrix(Y, yplsda_pred)\n",
    "print(confusions_matrix)"
   ]
  },
  {
   "cell_type": "markdown",
   "metadata": {},
   "source": [
    "## Logistic Regression"
   ]
  },
  {
   "cell_type": "markdown",
   "metadata": {},
   "source": [
    "Perform Logistic Regression on the data"
   ]
  },
  {
   "cell_type": "code",
   "execution_count": 31,
   "metadata": {},
   "outputs": [],
   "source": [
    "from sklearn.model_selection import KFold\n",
    "\n",
    "y_pred = np.zeros(len(Y))\n",
    "kf = KFold(n_splits=5)\n",
    "for train_index, test_index in kf.split(X):\n",
    "    X_train, X_test = X[train_index], X[test_index]\n",
    "    Y_train, Y_test = Y[train_index], Y[test_index]\n",
    "    logreg = LogisticRegression()\n",
    "    logreg.fit(X_train, Y_train);\n",
    "    y_pred[test_index] = logreg.predict(X_test)"
   ]
  },
  {
   "cell_type": "code",
   "execution_count": 32,
   "metadata": {},
   "outputs": [
    {
     "name": "stdout",
     "output_type": "stream",
     "text": [
      "[[433  11]\n",
      " [ 15 224]]\n"
     ]
    }
   ],
   "source": [
    "#Confusion Matrix\n",
    "from sklearn.metrics import confusion_matrix\n",
    "confusion_matrix = confusion_matrix(Y, y_pred)\n",
    "print(confusion_matrix)"
   ]
  },
  {
   "cell_type": "code",
   "execution_count": 33,
   "metadata": {},
   "outputs": [],
   "source": [
    "#Perform Leave one out instead of 5-fold CV\n",
    "lool = LeaveOneOut()\n",
    "ys = np.zeros(len(Y))\n",
    "for train_index, test_index in loo.split(X):\n",
    "    X_train, X_test = X[train_index], X[test_index]\n",
    "    Y_train, Y_test = Y[train_index], Y[test_index]\n",
    "    logreg = LogisticRegression()\n",
    "    logreg.fit(X_train, Y_train);\n",
    "    ys[test_index] = logreg.predict(X_test)"
   ]
  },
  {
   "cell_type": "code",
   "execution_count": 34,
   "metadata": {},
   "outputs": [
    {
     "name": "stdout",
     "output_type": "stream",
     "text": [
      "[[433  11]\n",
      " [ 14 225]]\n"
     ]
    }
   ],
   "source": [
    "#Confusion Matrix\n",
    "from sklearn.metrics import confusion_matrix\n",
    "confusion_matrix = confusion_matrix(Y, ys)\n",
    "print(confusion_matrix)"
   ]
  },
  {
   "cell_type": "markdown",
   "metadata": {},
   "source": [
    "The result from the confusion matrix is telling us that we have 433+224 correct predictions and 15+11 incorrect predictions."
   ]
  },
  {
   "cell_type": "code",
   "execution_count": 35,
   "metadata": {},
   "outputs": [
    {
     "data": {
      "image/png": "[encoded data removed]",
      "text/plain": [
       "<matplotlib.figure.Figure at 0x219b5a172b0>"
      ]
     },
     "metadata": {},
     "output_type": "display_data"
    }
   ],
   "source": [
    "#Receiver operating characteristic: ROC Curve\n",
    "from sklearn.metrics import roc_auc_score\n",
    "from sklearn.metrics import roc_curve\n",
    "logit_roc_auc = roc_auc_score(Y, y_pred)\n",
    "fpr, tpr, thresholds = roc_curve(Y, logreg.predict_proba(X)[:,1])\n",
    "plt.figure()\n",
    "plt.plot(fpr, tpr, label='Logistic Regression (area = %0.2f)' % logit_roc_auc)\n",
    "plt.plot([0, 1], [0, 1],'r--')\n",
    "plt.xlim([0.0, 1.0])\n",
    "plt.ylim([0.0, 1.05])\n",
    "plt.xlabel('False Positive Rate')\n",
    "plt.ylabel('True Positive Rate')\n",
    "plt.title('Receiver operating characteristic')\n",
    "plt.legend(loc=\"lower right\")\n",
    "plt.savefig('Log_ROC')\n",
    "plt.show()\n"
   ]
  },
  {
   "cell_type": "code",
   "execution_count": null,
   "metadata": {},
   "outputs": [],
   "source": []
  }
 ],
 "metadata": {
  "kernelspec": {
   "display_name": "Python 3",
   "language": "python",
   "name": "python3"
  },
  "language_info": {
   "codemirror_mode": {
    "name": "ipython",
    "version": 3
   },
   "file_extension": ".py",
   "mimetype": "text/x-python",
   "name": "python",
   "nbconvert_exporter": "python",
   "pygments_lexer": "ipython3",
   "version": "3.6.1"
  }
 },
 "nbformat": 4,
 "nbformat_minor": 2
}
