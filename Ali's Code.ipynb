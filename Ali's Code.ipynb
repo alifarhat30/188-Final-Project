{
 "cells": [
  {
   "cell_type": "markdown",
   "metadata": {},
   "source": [
    "##Final Project Code"
   ]
  },
  {
   "cell_type": "code",
   "execution_count": 23,
   "metadata": {},
   "outputs": [
    {
     "name": "stderr",
     "output_type": "stream",
     "text": [
      "C:\\tools\\Anaconda3\\lib\\site-packages\\sklearn\\cross_validation.py:41: DeprecationWarning: This module was deprecated in version 0.18 in favor of the model_selection module into which all the refactored classes and functions are moved. Also note that the interface of the new CV iterators are different from that of this module. This module will be removed in 0.20.\n",
      "  \"This module will be removed in 0.20.\", DeprecationWarning)\n"
     ]
    }
   ],
   "source": [
    "%matplotlib inline\n",
    "import numpy as np\n",
    "import scipy as sp\n",
    "import matplotlib.pyplot as plt\n",
    "import matplotlib.image as mpimg\n",
    "from scipy.io import loadmat\n",
    "import sklearn as skl\n",
    "import pandas as pd\n",
    "from sklearn.preprocessing import scale\n",
    "from sklearn import cross_validation"
   ]
  },
  {
   "cell_type": "code",
   "execution_count": 24,
   "metadata": {},
   "outputs": [],
   "source": [
    "#Load the data\n",
    "data = np.loadtxt(\"breast-cancer-wisconsin.data.csv\", delimiter=\",\")\n",
    "\n",
    "#change 2 to 0 and 4 to 1\n",
    "for i in range(len(data)):\n",
    "    if data[i,10] == 2:\n",
    "        data[i,10] = 0\n",
    "    elif data[i,10] == 4:\n",
    "        data[i,10] = 1\n",
    "        \n",
    "X = data[:,1:10]\n",
    "Y = data[:,10]"
   ]
  },
  {
   "cell_type": "code",
   "execution_count": 26,
   "metadata": {},
   "outputs": [
    {
     "data": {
      "image/png": "[encoded data removed]",
      "text/plain": [
       "<matplotlib.figure.Figure at 0x29a493a9f98>"
      ]
     },
     "metadata": {},
     "output_type": "display_data"
    },
    {
     "name": "stdout",
     "output_type": "stream",
     "text": [
      "[ 0.81397888  0.83974134  0.84295668  0.84325165  0.84329905  0.84332356\n",
      "  0.84332412  0.84332413  0.84332413]\n"
     ]
    }
   ],
   "source": [
    "#Perform PLS-DA\n",
    "n = 10\n",
    "R2Y = np.zeros(n-1)\n",
    "for i in range(1,n):\n",
    "    PLS = PLSRegression(n_components = i, max_iter = 1000)\n",
    "    #now we can call functions on PLS such as \"PLS.fit\"\n",
    "\n",
    "    xScores, yScores = PLS.fit_transform(scale(X), scale(Y)) # xSc is not the same as PLS.x_scores_\n",
    "\n",
    "    R2Y[i-1] = PLS.score(scale(X), scale(Y))\n",
    "\n",
    "    #Y_predict = PLS.predict(X)\n",
    "    #R2Y[i-1] = 1 - (np.sum(Y_predict - Y48)**2) / np.sum(Y48)**2\n",
    "\n",
    "plt.figure()\n",
    "plt.scatter(np.arange(1,n), R2Y)\n",
    "plt.xlabel(\"number of principal components\")\n",
    "plt.ylabel(\"R2Y\")\n",
    "plt.grid()\n",
    "plt.show()\n",
    "print(R2Y)"
   ]
  },
  {
   "cell_type": "code",
   "execution_count": 35,
   "metadata": {},
   "outputs": [
    {
     "data": {
      "text/plain": [
       "(683, 2)"
      ]
     },
     "execution_count": 35,
     "metadata": {},
     "output_type": "execute_result"
    }
   ],
   "source": [
    "#Choose 2 components\n",
    "PLS = PLSRegression(n_components = 2, max_iter = 1000)\n",
    "xScores1, yScores = PLS.fit_transform(scale(X), scale(Y))\n",
    "PLS.x_scores_"
   ]
  },
  {
   "cell_type": "code",
   "execution_count": null,
   "metadata": {},
   "outputs": [],
   "source": []
  }
 ],
 "metadata": {
  "kernelspec": {
   "display_name": "Python 3",
   "language": "python",
   "name": "python3"
  },
  "language_info": {
   "codemirror_mode": {
    "name": "ipython",
    "version": 3
   },
   "file_extension": ".py",
   "mimetype": "text/x-python",
   "name": "python",
   "nbconvert_exporter": "python",
   "pygments_lexer": "ipython3",
   "version": "3.6.1"
  }
 },
 "nbformat": 4,
 "nbformat_minor": 2
}
