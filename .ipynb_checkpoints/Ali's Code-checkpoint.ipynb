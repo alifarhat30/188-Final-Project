{
 "cells": [
  {
   "cell_type": "markdown",
   "metadata": {},
   "source": [
    "# Final Project Code"
   ]
  },
  {
   "cell_type": "code",
<<<<<<< HEAD
   "execution_count": 15,
=======
   "execution_count": 36,
>>>>>>> fea073822d0d1a981af95a54ead95d8597a7af6f
   "metadata": {},
   "outputs": [],
   "source": [
    "%matplotlib inline\n",
    "import numpy as np\n",
    "import scipy as sp\n",
    "import matplotlib.pyplot as plt\n",
    "import matplotlib.image as mpimg\n",
    "import sklearn as skl\n",
    "from scipy.io import loadmat\n",
    "import pandas as pd\n",
    "from sklearn.preprocessing import scale\n",
    "from sklearn import cross_validation\n",
    "from sklearn.preprocessing import scale\n",
    "from sklearn.cross_decomposition import PLSRegression\n",
    "from scipy import stats\n",
    "from sklearn.linear_model import LogisticRegression\n",
    "from sklearn.cross_validation import train_test_split"
   ]
  },
  {
   "cell_type": "code",
<<<<<<< HEAD
   "execution_count": 16,
=======
   "execution_count": 37,
>>>>>>> fea073822d0d1a981af95a54ead95d8597a7af6f
   "metadata": {},
   "outputs": [],
   "source": [
    "#Load the data\n",
    "data = np.loadtxt(\"breast-cancer-wisconsin.data.csv\", delimiter=\",\")\n",
    "\n",
    "#change 2 to 0 and 4 to 1\n",
    "for i in range(len(data)):\n",
    "    if data[i,10] == 2:\n",
    "        data[i,10] = 0\n",
    "    elif data[i,10] == 4:\n",
    "        data[i,10] = 1\n",
    "        \n",
    "X = data[:,1:10]\n",
    "Y = data[:,10]"
   ]
  },
  {
   "cell_type": "markdown",
   "metadata": {},
   "source": [
    "# PLS-DA"
   ]
  },
  {
   "cell_type": "code",
<<<<<<< HEAD
   "execution_count": 17,
=======
   "execution_count": 38,
>>>>>>> fea073822d0d1a981af95a54ead95d8597a7af6f
   "metadata": {},
   "outputs": [
    {
     "data": {
      "image/png": "iVBORw0KGgoAAAANSUhEUgAAAYsAAAEKCAYAAADjDHn2AAAABHNCSVQICAgIfAhkiAAAAAlwSFlz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\nSUVORK5CYII=\n",
      "text/plain": [
<<<<<<< HEAD
       "<matplotlib.figure.Figure at 0x254ddf84978>"
=======
       "<matplotlib.figure.Figure at 0x23df9821860>"
>>>>>>> fea073822d0d1a981af95a54ead95d8597a7af6f
      ]
     },
     "metadata": {},
     "output_type": "display_data"
    },
    {
     "name": "stdout",
     "output_type": "stream",
     "text": [
      "[ 0.81397888  0.83974134  0.84295668  0.84325165  0.84329905  0.84332356\n",
      "  0.84332412  0.84332413  0.84332413]\n"
     ]
    }
   ],
   "source": [
    "#Perform PLS-DA\n",
    "n = 10\n",
    "R2Y = np.zeros(n-1)\n",
    "for i in range(1,n):\n",
    "    PLS = PLSRegression(n_components = i, max_iter = 1000)\n",
    "    #now we can call functions on PLS such as \"PLS.fit\"\n",
    "\n",
    "    xScores, yScores = PLS.fit_transform(scale(X), scale(Y)) # xSc is not the same as PLS.x_scores_\n",
    "\n",
    "    R2Y[i-1] = PLS.score(scale(X), scale(Y))\n",
    "\n",
    "    #Y_predict = PLS.predict(X)\n",
    "    #R2Y[i-1] = 1 - (np.sum(Y_predict - Y48)**2) / np.sum(Y48)**2\n",
    "\n",
    "plt.figure()\n",
    "plt.scatter(np.arange(1,n), R2Y)\n",
    "plt.xlabel(\"number of principal components\")\n",
    "plt.ylabel(\"R2Y\")\n",
    "plt.grid()\n",
    "plt.show()\n",
    "print(R2Y)"
   ]
  },
  {
   "cell_type": "code",
<<<<<<< HEAD
   "execution_count": 18,
=======
   "execution_count": 61,
>>>>>>> fea073822d0d1a981af95a54ead95d8597a7af6f
   "metadata": {},
   "outputs": [],
   "source": [
    "#Choose 2 components\n",
    "PLS = PLSRegression(n_components = 2, max_iter = 1000)\n",
    "xScores1, yScores = PLS.fit_transform(scale(X), scale(Y))\n",
    "xloadings = PLS.x_loadings_\n",
    "yloadings = PLS.y_loadings_"
   ]
  },
  {
   "cell_type": "code",
<<<<<<< HEAD
   "execution_count": 19,
=======
   "execution_count": 62,
>>>>>>> fea073822d0d1a981af95a54ead95d8597a7af6f
   "metadata": {},
   "outputs": [
    {
     "data": {
      "image/png": "iVBORw0KGgoAAAANSUhEUgAAAX8AAAD8CAYAAACfF6SlAAAABHNCSVQICAgIfAhkiAAAAAlwSFlz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\nMHQJvAz3IAAAAABJRU5ErkJggg==\n",
      "text/plain": [
<<<<<<< HEAD
       "<matplotlib.figure.Figure at 0x254e6460dd8>"
=======
       "<matplotlib.figure.Figure at 0x23df997b048>"
>>>>>>> fea073822d0d1a981af95a54ead95d8597a7af6f
      ]
     },
     "metadata": {},
     "output_type": "display_data"
    }
   ],
   "source": [
    "#Overlay X and y Loadings\n",
    "labels = ['Clump Thickness', 'Uniformity of Cell Size', 'Uniformity of Cell Shape','Marginal Adhesion','Single Epithelial Cell Size','Bare Nuclei','Bland Chromatin','Normal Nucleoli','Mitoses']\n",
    "for i in range(len(xloadings)):\n",
    "    plt.scatter(xloadings[i,0], xloadings[i,1], label = labels[i] )\n",
    "\n",
    "plt.scatter(yloadings[:,0], yloadings[:,1], c = 'k', label = 'Y-loadings')\n",
    "plt.legend(loc = 2)\n",
    "plt.show()"
   ]
  },
  {
   "cell_type": "code",
<<<<<<< HEAD
   "execution_count": 20,
=======
   "execution_count": 41,
>>>>>>> fea073822d0d1a981af95a54ead95d8597a7af6f
   "metadata": {},
   "outputs": [
    {
     "name": "stdout",
     "output_type": "stream",
     "text": [
      "[[ 0.30539225  0.3881054 ]\n",
      " [ 0.38115606 -0.06826798]\n",
      " [ 0.37845571  0.00669318]\n",
      " [ 0.33289709 -0.08198907]\n",
      " [ 0.33477416 -0.31300279]\n",
      " [ 0.33910089  0.48546142]\n",
      " [ 0.34715878  0.08893164]\n",
      " [ 0.33532208 -0.14104308]\n",
      " [ 0.22530291 -0.75133983]]\n"
     ]
    }
   ],
   "source": [
    "#Predict Y\n",
    "#Y_predicted = PLS.predict(scale(X))\n",
    "\n",
    "print(xloadings)"
   ]
  },
  {
   "cell_type": "code",
<<<<<<< HEAD
   "execution_count": 21,
   "metadata": {},
   "outputs": [
    {
     "name": "stderr",
     "output_type": "stream",
     "text": [
      "C:\\tools\\Anaconda3\\lib\\site-packages\\ipykernel_launcher.py:13: DeprecationWarning: assignment will raise an error in the future, most likely because your index result shape does not match the value array shape. You can use `arr.flat[index] = values` to keep the old behaviour.\n",
      "  del sys.path[0]\n"
=======
   "execution_count": 42,
   "metadata": {},
   "outputs": [
    {
     "data": {
      "text/plain": [
       "array([[ 0.37215109,  0.20265095]])"
      ]
     },
     "execution_count": 42,
     "metadata": {},
     "output_type": "execute_result"
    }
   ],
   "source": [
    "yloadings\n"
   ]
  },
  {
   "cell_type": "code",
   "execution_count": 43,
   "metadata": {},
   "outputs": [
    {
     "ename": "NameError",
     "evalue": "name 'KFold' is not defined",
     "output_type": "error",
     "traceback": [
      "\u001b[1;31m---------------------------------------------------------------------------\u001b[0m",
      "\u001b[1;31mNameError\u001b[0m                                 Traceback (most recent call last)",
      "\u001b[1;32m<ipython-input-43-7a64eed2d647>\u001b[0m in \u001b[0;36m<module>\u001b[1;34m()\u001b[0m\n\u001b[0;32m      3\u001b[0m \u001b[0mXda\u001b[0m \u001b[1;33m=\u001b[0m \u001b[0mscale\u001b[0m\u001b[1;33m(\u001b[0m\u001b[0mX\u001b[0m\u001b[1;33m)\u001b[0m\u001b[1;33m\u001b[0m\u001b[0m\n\u001b[0;32m      4\u001b[0m \u001b[0mYda\u001b[0m \u001b[1;33m=\u001b[0m \u001b[0mscale\u001b[0m\u001b[1;33m(\u001b[0m\u001b[0mY\u001b[0m\u001b[1;33m)\u001b[0m\u001b[1;33m\u001b[0m\u001b[0m\n\u001b[1;32m----> 5\u001b[1;33m \u001b[0mkfs\u001b[0m \u001b[1;33m=\u001b[0m \u001b[0mKFold\u001b[0m\u001b[1;33m(\u001b[0m\u001b[0mn_splits\u001b[0m\u001b[1;33m=\u001b[0m\u001b[1;36m5\u001b[0m\u001b[1;33m)\u001b[0m\u001b[1;33m\u001b[0m\u001b[0m\n\u001b[0m\u001b[0;32m      6\u001b[0m \u001b[1;32mfor\u001b[0m \u001b[0mtrain_index\u001b[0m\u001b[1;33m,\u001b[0m \u001b[0mtest_index\u001b[0m \u001b[1;32min\u001b[0m \u001b[0mkfs\u001b[0m\u001b[1;33m.\u001b[0m\u001b[0msplit\u001b[0m\u001b[1;33m(\u001b[0m\u001b[0mX\u001b[0m\u001b[1;33m)\u001b[0m\u001b[1;33m:\u001b[0m\u001b[1;33m\u001b[0m\u001b[0m\n\u001b[0;32m      7\u001b[0m     \u001b[0mX_train\u001b[0m\u001b[1;33m,\u001b[0m \u001b[0mX_test\u001b[0m \u001b[1;33m=\u001b[0m \u001b[0mXda\u001b[0m\u001b[1;33m[\u001b[0m\u001b[0mtrain_index\u001b[0m\u001b[1;33m]\u001b[0m\u001b[1;33m,\u001b[0m \u001b[0mXda\u001b[0m\u001b[1;33m[\u001b[0m\u001b[0mtest_index\u001b[0m\u001b[1;33m]\u001b[0m\u001b[1;33m\u001b[0m\u001b[0m\n",
      "\u001b[1;31mNameError\u001b[0m: name 'KFold' is not defined"
>>>>>>> fea073822d0d1a981af95a54ead95d8597a7af6f
     ]
    }
   ],
   "source": [
    "from sklearn.model_selection import LeaveOneOut\n",
<<<<<<< HEAD
    "from sklearn.model_selection import KFold\n",
    "\n",
=======
>>>>>>> fea073822d0d1a981af95a54ead95d8597a7af6f
    "yplsda = np.zeros(len(Y))\n",
    "Xda = scale(X)\n",
    "Yda = scale(Y)\n",
    "kfs = KFold(n_splits=5)\n",
    "for train_index, test_index in kfs.split(X):\n",
    "    X_train, X_test = Xda[train_index], Xda[test_index]\n",
    "    Y_train, Y_test = Yda[train_index], Yda[test_index]\n",
    "    PLS = PLSRegression(n_components = 2, max_iter = 1000)\n",
    "    xScores, yScores = PLS.fit_transform(X_train, Y_train)\n",
    "    yplsda[test_index] = PLS.predict(X_test)"
   ]
  },
  {
   "cell_type": "code",
<<<<<<< HEAD
   "execution_count": 22,
   "metadata": {},
   "outputs": [
    {
     "name": "stdout",
     "output_type": "stream",
     "text": [
      "[[431  13]\n",
      " [  6 233]]\n"
     ]
    }
   ],
=======
   "execution_count": null,
   "metadata": {},
   "outputs": [],
>>>>>>> fea073822d0d1a981af95a54ead95d8597a7af6f
   "source": [
    "#Create a cutoff for what is classified as 0 vs 1\n",
    "from sklearn.metrics import confusion_matrix\n",
    "yplsda_pred = np.zeros(len(Y))\n",
    "j = -1\n",
    "for i in yplsda:\n",
    "    j = j +1\n",
    "    if i>0:\n",
    "        yplsda_pred[j] = 1\n",
    "    else:\n",
    "        yplsda_pred[j] = 0\n",
    "\n",
    "confusions_matrix = confusion_matrix(Y, yplsda_pred)\n",
    "print(confusions_matrix)"
   ]
  },
  {
   "cell_type": "markdown",
   "metadata": {},
   "source": [
    "## Logistic Regression"
   ]
  },
  {
   "cell_type": "markdown",
   "metadata": {},
   "source": [
    "Perform Logistic Regression on the data"
   ]
  },
  {
   "cell_type": "code",
<<<<<<< HEAD
   "execution_count": 23,
=======
   "execution_count": 46,
>>>>>>> fea073822d0d1a981af95a54ead95d8597a7af6f
   "metadata": {},
   "outputs": [],
   "source": [
    "from sklearn.model_selection import KFold\n",
    "\n",
    "y_pred = np.zeros(len(Y))\n",
    "kf = KFold(n_splits=5)\n",
    "for train_index, test_index in kf.split(X):\n",
    "    X_train, X_test = X[train_index], X[test_index]\n",
    "    Y_train, Y_test = Y[train_index], Y[test_index]\n",
    "    logreg = LogisticRegression()\n",
    "    logreg.fit(X_train, Y_train);\n",
    "    y_pred[test_index] = logreg.predict(X_test)"
   ]
  },
  {
   "cell_type": "code",
<<<<<<< HEAD
   "execution_count": 24,
=======
   "execution_count": 48,
>>>>>>> fea073822d0d1a981af95a54ead95d8597a7af6f
   "metadata": {},
   "outputs": [
    {
     "name": "stdout",
     "output_type": "stream",
     "text": [
      "[[433  11]\n",
      " [ 15 224]]\n"
     ]
    }
   ],
   "source": [
    "#Confusion Matrix\n",
    "from sklearn.metrics import confusion_matrix\n",
    "confusion_matrix = confusion_matrix(Y, y_pred)\n",
    "print(confusion_matrix)"
   ]
  },
  {
   "cell_type": "markdown",
   "metadata": {},
   "source": [
    "The result from the confusion matrix is telling us that we have 433+224 correct predictions and 15+11 incorrect predictions."
   ]
  },
  {
   "cell_type": "code",
<<<<<<< HEAD
   "execution_count": 25,
=======
   "execution_count": 49,
>>>>>>> fea073822d0d1a981af95a54ead95d8597a7af6f
   "metadata": {},
   "outputs": [
    {
     "data": {
      "image/png": "iVBORw0KGgoAAAANSUhEUgAAAYoAAAEWCAYAAAB42tAoAAAABHNCSVQICAgIfAhkiAAAAAlwSFlz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\nAAAASUVORK5CYII=\n",
      "text/plain": [
<<<<<<< HEAD
       "<matplotlib.figure.Figure at 0x254e401bf98>"
=======
       "<matplotlib.figure.Figure at 0x23df99a0b38>"
>>>>>>> fea073822d0d1a981af95a54ead95d8597a7af6f
      ]
     },
     "metadata": {},
     "output_type": "display_data"
    }
   ],
   "source": [
    "#Receiver operating characteristic: ROC Curve\n",
    "from sklearn.metrics import roc_auc_score\n",
    "from sklearn.metrics import roc_curve\n",
    "logit_roc_auc = roc_auc_score(Y, y_pred)\n",
    "fpr, tpr, thresholds = roc_curve(Y, logreg.predict_proba(X)[:,1])\n",
    "plt.figure()\n",
    "plt.plot(fpr, tpr, label='Logistic Regression (area = %0.2f)' % logit_roc_auc)\n",
    "plt.plot([0, 1], [0, 1],'r--')\n",
    "plt.xlim([0.0, 1.0])\n",
    "plt.ylim([0.0, 1.05])\n",
    "plt.xlabel('False Positive Rate')\n",
    "plt.ylabel('True Positive Rate')\n",
    "plt.title('Receiver operating characteristic')\n",
    "plt.legend(loc=\"lower right\")\n",
    "plt.savefig('Log_ROC')\n",
    "plt.show()\n"
   ]
  },
  {
   "cell_type": "code",
   "execution_count": 66,
   "metadata": {},
   "outputs": [
    {
     "data": {
      "text/plain": [
       "array([[ 0.2629702 ,  0.07038626,  0.29805539,  0.16949667,  0.0030046 ,\n",
       "         0.34251731,  0.1049674 ,  0.17507735,  0.2091854 ]])"
      ]
     },
     "execution_count": 66,
     "metadata": {},
     "output_type": "execute_result"
    }
   ],
   "source": [
    "logreg.coef_  #the order of the weights are the same order as the loadings plot order..right?"
   ]
  },
  {
   "cell_type": "code",
   "execution_count": 67,
   "metadata": {},
   "outputs": [
    {
     "data": {
      "image/png": "iVBORw0KGgoAAAANSUhEUgAAAX8AAAD8CAYAAACfF6SlAAAABHNCSVQICAgIfAhkiAAAAAlwSFlz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\nMHQJvAz3IAAAAABJRU5ErkJggg==\n",
      "text/plain": [
       "<matplotlib.figure.Figure at 0x23df9a04710>"
      ]
     },
     "metadata": {},
     "output_type": "display_data"
    }
   ],
   "source": [
    "labels = ['Clump Thickness', 'Uniformity of Cell Size', 'Uniformity of Cell Shape','Marginal Adhesion','Single Epithelial Cell Size','Bare Nuclei','Bland Chromatin','Normal Nucleoli','Mitoses']\n",
    "for i in range(len(xloadings)):\n",
    "    plt.scatter(xloadings[i,0], xloadings[i,1], label = labels[i] )\n",
    "\n",
    "plt.scatter(yloadings[:,0], yloadings[:,1], c = 'k', label = 'Y-loadings')\n",
    "plt.legend(loc = 2)\n",
    "plt.show()"
   ]
  },
  {
   "cell_type": "code",
   "execution_count": null,
   "metadata": {},
   "outputs": [],
   "source": []
  }
 ],
 "metadata": {
  "kernelspec": {
   "display_name": "Python 3",
   "language": "python",
   "name": "python3"
  },
  "language_info": {
   "codemirror_mode": {
    "name": "ipython",
    "version": 3
   },
   "file_extension": ".py",
   "mimetype": "text/x-python",
   "name": "python",
   "nbconvert_exporter": "python",
   "pygments_lexer": "ipython3",
   "version": "3.6.3"
  }
 },
 "nbformat": 4,
 "nbformat_minor": 2
}
