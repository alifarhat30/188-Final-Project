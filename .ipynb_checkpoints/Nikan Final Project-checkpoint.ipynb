{
 "cells": [
  {
   "cell_type": "code",
   "execution_count": 86,
   "metadata": {},
   "outputs": [],
   "source": [
    "%matplotlib inline\n",
    "import numpy as np\n",
    "import scipy as sp\n",
    "import matplotlib.pyplot as plt\n",
    "import matplotlib.image as mpimg\n",
    "import sklearn as skl\n",
    "from scipy.io import loadmat\n",
    "import pandas as pd\n",
    "from sklearn.preprocessing import scale\n",
    "from sklearn import cross_validation\n",
    "from sklearn.preprocessing import scale\n",
    "from sklearn.cross_decomposition import PLSRegression"
   ]
  },
  {
   "cell_type": "code",
   "execution_count": 87,
   "metadata": {},
   "outputs": [],
   "source": [
    "data = np.loadtxt(\"breast-cancer-wisconsin.data.csv\", delimiter=\",\")"
   ]
  },
  {
   "cell_type": "code",
   "execution_count": 88,
   "metadata": {},
   "outputs": [],
   "source": [
    "for i in range(len(data[:,10])):\n",
    "    if data[i,10] == 2:\n",
    "        data[i,10] = 0\n",
    "    elif data[i,10] == 4:\n",
    "        data[i,10] = 1\n",
    "    \n",
    "X = data[:,1:10]\n",
    "Y = data[:,10]"
   ]
  },
  {
   "cell_type": "code",
   "execution_count": 89,
   "metadata": {},
   "outputs": [],
   "source": [
    "PLS = PLSRegression(n_components = 2, max_iter = 1000)\n",
    "\n",
    "xSc, ySc = PLS.fit_transform(scale(X),scale(Y)) #xSc not the same as PLS.x_scores_ ?\n",
    "xScores2 = PLS.x_scores_\n",
    "r2 = PLS.score(scale(X),scale(Y))"
   ]
  },
  {
   "cell_type": "code",
   "execution_count": 90,
   "metadata": {},
   "outputs": [
    {
     "data": {
      "text/plain": [
       "0.83974134422938906"
      ]
     },
     "execution_count": 90,
     "metadata": {},
     "output_type": "execute_result"
    }
   ],
   "source": [
    "r2"
   ]
  },
  {
   "cell_type": "code",
   "execution_count": 91,
   "metadata": {
    "collapsed": true
   },
   "outputs": [],
   "source": [
    "#from sklearn.decomposition import PCA\n",
    "xloadings = PLS.x_loadings_\n",
    "yloadings = PLS.y_loadings_"
   ]
  },
  {
   "cell_type": "code",
   "execution_count": 92,
   "metadata": {
    "scrolled": true
   },
   "outputs": [
    {
     "data": {
      "image/png": "[encoded data removed]",
      "text/plain": [
       "<matplotlib.figure.Figure at 0x28d62af4748>"
      ]
     },
     "metadata": {},
     "output_type": "display_data"
    }
   ],
   "source": [
    "for i in range(len(xloadings[:,0])):\n",
    "    plt.scatter(xloadings[i,0], xloadings[i,1],)\n",
    "plt.scatter(yloadings[:,0], yloadings[:,1],)\n",
    "plt.legend(['Clump Thickness', 'Uniformity of Cell Size', 'Uniformity of Cell Shape','Marginal Adhesion','Single Epithelial Cell Size','Bare Nuclei','Bland Chromatin','Normal Nucleoli','Mitoses','Y-loadings'])\n",
    "plt.show()"
   ]
  },
  {
   "cell_type": "code",
   "execution_count": 114,
   "metadata": {
    "scrolled": true
   },
   "outputs": [
    {
     "data": {
      "image/png": "[encoded data removed]",
      "text/plain": [
       "<matplotlib.figure.Figure at 0x28d62a012e8>"
      ]
     },
     "metadata": {},
     "output_type": "display_data"
    },
    {
     "data": {
      "text/plain": [
       "0.80358757504426503"
      ]
     },
     "execution_count": 114,
     "metadata": {},
     "output_type": "execute_result"
    }
   ],
   "source": [
    "from sklearn.model_selection import LeaveOneOut\n",
    "from sklearn.metrics import r2_score\n",
    "loo = LeaveOneOut()\n",
    "Xs=scale(X)\n",
    "Ys=scale(Y)\n",
    "model = np.zeros(683)\n",
    "for train, test in loo.split(X):\n",
    "    \n",
    "    xSc, ySc = PLS.fit_transform((Xs[train]),(Ys[train])) #xSc not the same as PLS.x_scores_ ?\n",
    "\n",
    "    model[test] = PLS.predict(Xs[test])\n",
    "    \n",
    "model_real = model*np.std(model)+np.mean(model)\n",
    "plt.xlabel('measured')\n",
    "plt.ylabel('predicted')\n",
    "plt.scatter(Y,(model))\n",
    "plt.show()\n",
    "r2_score((model),(Ys))"
   ]
  },
  {
   "cell_type": "code",
   "execution_count": 116,
   "metadata": {},
   "outputs": [
    {
     "data": {
      "text/plain": [
       "array([-0.45871178,  0.67320019, -0.52030528,  0.58769444, -0.46666614,\n",
       "        1.8629046 , -0.0913337 , -0.61302059, -0.83047425, -0.53634288,\n",
       "       -0.74287958, -0.70389625,  0.03019574, -0.58171268,  1.20974135,\n",
       "        0.26778042, -0.57341827, -0.5240755 ,  1.17138372, -0.39313245,\n",
       "        0.8562847 ,  1.21327049, -0.63865641, -0.71986949,  0.30484118,\n",
       "       -0.62450007, -0.5080824 , -0.70389625, -0.73548621, -0.66158652,\n",
       "       -0.6545549 ,  1.05487282, -0.62589214, -0.59715155, -0.70389625,\n",
       "        1.36047896, -0.1776076 ,  0.86766727,  0.44789667,  0.46090888,\n",
       "        1.31778653,  0.19033137,  1.32286201, -0.78846844,  0.82157217,\n",
       "       -0.76923733, -0.46666614,  0.9256641 ,  0.22632262,  0.07805993,\n",
       "        0.77032755,  0.85578521,  1.13366322,  0.7843638 ,  1.04644267,\n",
       "        0.08532102,  0.4549649 ,  0.29817653,  0.36959952, -0.70017231,\n",
       "        1.22814753,  0.17329123, -0.76923733, -0.01042697, -0.5240755 ,\n",
       "        0.77792499,  1.10739366, -0.68889043, -0.4249393 ,  0.64658363,\n",
       "       -0.30107839,  1.30946077,  0.38408123, -0.52866838, -0.64434515,\n",
       "       -0.4051436 , -0.45123729, -0.68089908, -0.398425  , -0.54477814,\n",
       "       -0.42162828, -0.31989585,  1.05288554,  0.59969663,  0.46302907,\n",
       "        0.95598897, -0.5240755 , -0.65223671, -0.71986949, -0.65931634,\n",
       "       -0.5240755 , -0.76923733, -0.6545549 , -0.71986949, -0.72458527,\n",
       "       -0.45871178,  0.88994736,  1.35871822,  0.80801067, -0.03074071,\n",
       "       -0.48257496,  0.26549632,  1.35025734,  0.00659523,  1.43969496,\n",
       "        1.0479818 , -0.70728104,  0.90708255, -0.40495963,  0.7133605 ,\n",
       "        1.1110913 ,  1.54468635, -0.33555923, -0.54212826, -0.00320534,\n",
       "        0.88963532, -0.63420091, -0.48324113, -0.64959454, -0.41800023,\n",
       "        1.5301824 ,  0.68443892,  1.12473982, -0.76923733,  0.97723248,\n",
       "       -0.5893234 ,  0.77626228, -0.62590188, -0.4249393 , -0.6545549 ,\n",
       "        1.29540485, -0.60773068, -0.61565176, -0.32767028, -0.57341827,\n",
       "       -0.68796118, -0.53191276, -0.68796118, -0.75322958,  0.58949821,\n",
       "       -0.54212826, -0.70389625,  0.32742686, -0.6771328 , -0.06086518,\n",
       "        1.43502964, -0.74287958,  0.68587528,  1.47928062, -0.48454611,\n",
       "       -0.81861742,  0.6304404 , -0.69056354, -0.6545549 ,  1.62354307,\n",
       "        1.37557256, -0.49314157, -0.5893234 , -0.78907969, -0.42413361,\n",
       "        1.16977575,  0.65472804, -0.5893234 , -0.81297851, -0.68796118,\n",
       "       -0.71986949, -0.76923733,  1.84641653,  0.95740066,  1.30598744,\n",
       "       -0.6545549 ,  0.76975951, -0.5240755 ,  0.45336574, -0.74287958,\n",
       "       -0.81861742, -0.39313245,  1.39127134,  1.01016292, -0.67751304,\n",
       "        0.87776342,  1.40753307,  1.30466977, -0.59949525,  1.82688096,\n",
       "        1.54836595, -0.5080824 , -0.71986949, -0.5893234 , -0.5240755 ,\n",
       "        0.9519523 , -0.37225934, -0.81861742, -0.63865641,  1.44966964,\n",
       "        1.55248123, -0.71986949, -0.45871178, -0.71986949,  1.59003118,\n",
       "        1.09621097, -0.74287958, -0.74287958, -0.48160197,  1.82473199,\n",
       "        1.46964656, -0.71986949,  1.98858112,  1.98307262,  1.11847961,\n",
       "       -0.76923733, -0.71986949,  1.16074571, -0.30994952, -0.69117563,\n",
       "        1.61412191, -0.27313249,  0.87348637,  1.38974254, -0.76923733,\n",
       "        1.50876124,  1.15509932, -0.74287958,  2.02060698,  0.89928827,\n",
       "        1.27435671,  0.25206548,  0.98836453, -0.29404114,  1.29802253,\n",
       "        0.88969489,  1.3994844 ,  0.863263  , -0.23660911, -0.55481965,\n",
       "       -0.6545549 , -0.34358012, -0.71986949, -0.3610478 ,  1.74778375,\n",
       "        0.57285341, -0.36775214, -0.73994435,  1.09195158,  0.619156  ,\n",
       "        1.31778653,  1.22814753,  0.77389165, -0.68796118, -0.63865641,\n",
       "       -0.5893234 ,  0.66893481,  1.26007971,  1.62420917,  1.51492388,\n",
       "        1.28926508,  0.78156872, -0.30284707,  1.19354218,  0.50409056,\n",
       "        0.9632497 , -0.71986949,  0.9556117 , -0.45871178,  0.50409056,\n",
       "        0.11673709, -0.5583888 , -0.63865641, -0.76923733, -0.71986949,\n",
       "        0.66234622, -0.5893234 , -0.62589214,  0.63270281,  0.95571105,\n",
       "        1.01220103,  1.95615092,  1.81377823, -0.61565176,  0.36838292,\n",
       "        1.11212646, -0.81861742, -0.71986949,  0.86535274,  1.13530617,\n",
       "        0.35698126, -0.2515726 ,  1.00502349,  1.05629096, -0.71986949,\n",
       "        1.84658853, -0.71986949,  0.85645193,  1.21766621, -0.71986949,\n",
       "       -0.71986949,  0.90537235, -0.21304855, -0.68089908, -0.81861742,\n",
       "        0.59070184, -0.81861742, -0.79223599,  0.67559277,  1.38020378,\n",
       "       -0.65013399,  0.43104027,  0.83968921, -0.5893234 ,  0.77009814,\n",
       "       -0.71986949, -0.49813591,  0.6570709 , -0.76923733,  0.74370659,\n",
       "        1.1512795 ,  0.87426999, -0.47771254, -0.3699584 ,  0.77275002,\n",
       "        0.93706386, -0.81861742,  0.87129523, -0.71986949, -0.79223599,\n",
       "        0.88908123,  0.98328518, -0.71986949, -0.75322958, -0.81861742,\n",
       "        1.36545705, -0.81861742, -0.36495865, -0.77973399,  0.00977448,\n",
       "        0.55631629, -0.49990565, -0.6545549 ,  0.21054563,  1.1711693 ,\n",
       "       -0.76923733, -0.51945511, -0.12388836,  1.55244619,  0.91949002,\n",
       "        0.704537  ,  1.74215061,  0.82630227, -0.37573488, -0.17035896,\n",
       "       -0.6545549 , -0.70389625,  1.69447992,  1.52436161, -0.73548621,\n",
       "       -0.70909513, -0.43464353, -0.73548621, -0.53191276, -0.47942464,\n",
       "       -0.59715155, -0.81861742, -0.76923733, -0.79223599, -0.49834541,\n",
       "       -0.21311378, -0.81861742,  1.29652249, -0.45122538, -0.75322958,\n",
       "       -0.75322958, -0.52765978,  0.92930052, -0.24983868, -0.6729631 ,\n",
       "       -0.38504636, -0.74057112,  1.54821087, -0.63865641, -0.84163051,\n",
       "       -0.6489352 , -0.63865641, -0.5893234 , -0.62271257, -0.57065755,\n",
       "       -0.69832486,  1.06916712, -0.68796118, -0.35066845, -0.48068173,\n",
       "       -0.69308874, -0.76923733, -0.49484567, -0.76923733, -0.44109676,\n",
       "       -0.59715155, -0.76923733,  1.4313802 , -0.41720508,  1.06043833,\n",
       "       -0.04252559,  1.39222059, -0.76923733, -0.27080288, -0.60921712,\n",
       "       -0.31542091,  1.83381906, -0.30483447, -0.4249393 , -0.68796118,\n",
       "        2.20733515, -0.27337354,  0.75724092, -0.76923733, -0.70389625,\n",
       "       -0.66397065, -0.32386957, -0.47712846, -0.55193072,  0.91173456,\n",
       "        1.23258882,  0.81619605, -0.62271257, -0.48210753, -0.55738428,\n",
       "        1.32243056, -0.18478684, -0.62302925, -0.74954742, -0.33959568,\n",
       "       -0.75322958, -0.81861742, -0.55738428, -0.84163051,  1.53213524,\n",
       "       -0.53892751, -0.55738428, -0.6306004 ,  1.22829408, -0.65594828,\n",
       "        0.14762001,  1.50739639,  1.32263594, -0.51582673, -0.47418379,\n",
       "       -0.49990565, -0.41132256, -0.43429945, -0.59176329, -0.62271257,\n",
       "        1.35979748,  1.43339804,  1.108042  , -0.62271257, -0.72768753,\n",
       "       -0.66158652, -0.43429945, -0.51487947, -0.62271257, -0.55738428,\n",
       "       -0.68796118, -0.5811809 , -0.62271257, -0.52025935,  1.22357688,\n",
       "       -0.58036006, -0.35494416,  1.69398834,  1.62703739, -0.51582673,\n",
       "       -0.64608372, -0.66158652,  1.72009692,  0.21183729, -0.00625057,\n",
       "       -0.81861742,  1.04952101, -0.59633607,  1.46974934,  0.12735778,\n",
       "       -0.66158652, -0.84163051, -0.58561568, -0.57341827, -0.57341827,\n",
       "       -0.39313245, -0.57341827, -0.54477814, -0.5240755 , -0.81861742,\n",
       "       -0.61372639,  1.24115339, -0.61138158, -0.55738428, -0.75322958,\n",
       "       -0.81861742, -0.5080824 , -0.55738428, -0.66158652,  1.44500086,\n",
       "        1.3184983 , -0.84163051, -0.79223599, -0.61778726,  0.99702173,\n",
       "       -0.79563522, -0.59967693,  0.77901378,  1.10405201, -0.63865641,\n",
       "       -0.65931634, -0.62271257, -0.5240755 , -0.37987425, -0.59633607,\n",
       "        1.0176784 , -0.49484567, -0.74287958, -0.63865641, -0.70389625,\n",
       "       -0.60793364, -0.45871178, -0.41720508, -0.57341827, -0.44254904,\n",
       "       -0.43901489, -0.68796118, -0.48304272, -0.57341827, -0.59212116,\n",
       "       -0.5080824 ,  1.71576708, -0.77621137, -0.71092634,  0.89433496,\n",
       "       -0.63865641, -0.71986949, -0.40167241, -0.16250426, -0.68796118,\n",
       "       -0.17856937, -0.42366449, -0.49990565, -0.70389625, -0.5080824 ,\n",
       "       -0.45871178, -0.45871178, -0.71986949, -0.63865641, -0.49314157,\n",
       "        1.71168294, -0.54781368, -0.43529161,  0.72612985,  1.52468728,\n",
       "        1.31070988,  1.54224186, -0.63865641, -0.76923733,  0.95819768,\n",
       "       -0.41720508, -0.5080824 , -0.76923733, -0.76923733, -0.71986949,\n",
       "       -0.46656087,  1.2863019 ,  1.30838753, -0.68796118, -0.38889634,\n",
       "       -0.81861742,  2.04447888, -0.47712846,  0.84797326, -0.55738428,\n",
       "        0.58481129,  0.89466091,  0.86151053, -0.51582673,  0.85262514,\n",
       "       -0.5080824 , -0.53191276, -0.37558371, -0.63865641, -0.41813118,\n",
       "       -0.63865641, -0.79223599, -0.57341827,  0.61491533,  0.75909902,\n",
       "        1.36964278, -0.59405404, -0.81861742,  1.66457705, -0.55738428,\n",
       "        1.12899309,  1.00656146,  1.88512963, -0.62966172, -0.72685328,\n",
       "       -0.49031899, -0.63865641, -0.57341827, -0.5080824 , -0.63865641,\n",
       "        0.06338374, -0.27753227, -0.81861742, -0.50231958, -0.3744255 ,\n",
       "        0.78033035, -0.47671159, -0.75322958, -0.62271257, -0.37143288,\n",
       "       -0.5080824 , -0.81861742,  0.74261712, -0.68796118, -0.5631285 ,\n",
       "        1.35242056, -0.28513579, -0.62271257, -0.49990565, -0.56530603,\n",
       "       -0.63865641, -0.63865641, -0.81861742, -0.75322958, -0.63865641,\n",
       "       -0.73994435, -0.76126915,  1.2053    , -0.63865641, -0.42896493,\n",
       "       -0.67469318, -0.47712846, -0.57341827, -0.5893234 , -0.63865641,\n",
       "       -0.5080824 ,  0.12484463,  1.22094075, -0.81861742, -0.76923733,\n",
       "       -0.5240755 , -0.68608468, -0.68608468, -0.58129423, -0.81861742,\n",
       "       -0.46904721, -0.5893234 ,  0.3993244 ,  1.26592343,  1.02768502,\n",
       "       -0.52360484, -0.6545549 , -0.41839549, -0.76923733, -0.49781319,\n",
       "       -0.72768753, -0.55738428, -0.81861742, -0.75322958,  2.04212621,\n",
       "        1.38544074, -0.42776421, -0.81861742, -0.81861742, -0.81861742,\n",
       "       -0.81861742, -0.57672835, -0.62271257, -0.95631484, -0.76126915,\n",
       "        0.81645596, -0.68796118, -0.65781356, -0.59590386, -0.75322958,\n",
       "        1.05829123,  0.74597129,  0.89031484])"
      ]
     },
     "execution_count": 116,
     "metadata": {},
     "output_type": "execute_result"
    }
   ],
   "source": [
    "model_real"
   ]
  },
  {
   "cell_type": "code",
   "execution_count": 113,
   "metadata": {},
   "outputs": [
    {
     "data": {
      "text/plain": [
       "array([ 0.,  0.,  0.,  0.,  0.,  1.,  0.,  0.,  0.,  0.,  0.,  0.,  1.,\n",
       "        0.,  1.,  1.,  0.,  0.,  1.,  0.,  1.,  1.,  0.,  0.,  1.,  0.,\n",
       "        0.,  0.,  0.,  0.,  0.,  1.,  0.,  0.,  0.,  1.,  0.,  1.,  1.,\n",
       "        1.,  1.,  1.,  1.,  0.,  1.,  0.,  0.,  1.,  1.,  1.,  1.,  1.,\n",
       "        1.,  1.,  1.,  1.,  1.,  1.,  1.,  0.,  1.,  1.,  0.,  1.,  0.,\n",
       "        1.,  1.,  0.,  0.,  1.,  0.,  1.,  1.,  0.,  0.,  0.,  0.,  0.,\n",
       "        0.,  0.,  0.,  0.,  1.,  1.,  1.,  1.,  0.,  0.,  0.,  0.,  0.,\n",
       "        0.,  0.,  0.,  0.,  0.,  1.,  1.,  1.,  1.,  0.,  1.,  1.,  1.,\n",
       "        1.,  1.,  0.,  1.,  0.,  1.,  1.,  1.,  0.,  0.,  0.,  1.,  0.,\n",
       "        0.,  0.,  0.,  1.,  1.,  1.,  0.,  1.,  0.,  1.,  0.,  0.,  0.,\n",
       "        1.,  0.,  0.,  0.,  0.,  0.,  0.,  0.,  0.,  1.,  0.,  0.,  1.,\n",
       "        0.,  0.,  1.,  0.,  1.,  1.,  0.,  0.,  1.,  0.,  0.,  1.,  1.,\n",
       "        0.,  0.,  0.,  0.,  1.,  1.,  0.,  0.,  0.,  0.,  0.,  1.,  1.,\n",
       "        1.,  0.,  1.,  0.,  1.,  0.,  0.,  0.,  1.,  1.,  0.,  1.,  1.,\n",
       "        1.,  0.,  1.,  1.,  0.,  0.,  0.,  0.,  0.,  0.,  0.,  0.,  1.,\n",
       "        1.,  0.,  0.,  0.,  1.,  1.,  0.,  0.,  0.,  1.,  1.,  0.,  1.,\n",
       "        1.,  1.,  0.,  0.,  1.,  0.,  0.,  1.,  1.,  1.,  1.,  0.,  1.,\n",
       "        1.,  0.,  1.,  1.,  1.,  0.,  1.,  0.,  1.,  1.,  1.,  1.,  0.,\n",
       "        0.,  0.,  0.,  0.,  0.,  1.,  1.,  0.,  0.,  1.,  0.,  1.,  1.,\n",
       "        1.,  0.,  0.,  0.,  0.,  1.,  1.,  1.,  1.,  1.,  0.,  1.,  1.,\n",
       "        1.,  0.,  1.,  0.,  1.,  1.,  0.,  0.,  0.,  0.,  1.,  0.,  0.,\n",
       "        1.,  1.,  1.,  1.,  1.,  0.,  1.,  1.,  0.,  0.,  1.,  1.,  0.,\n",
       "        0.,  1.,  1.,  0.,  1.,  0.,  1.,  1.,  0.,  0.,  1.,  0.,  0.,\n",
       "        0.,  1.,  0.,  0.,  1.,  1.,  0.,  0.,  1.,  0.,  1.,  0.,  0.,\n",
       "        1.,  0.,  1.,  1.,  1.,  0.,  0.,  1.,  1.,  0.,  1.,  0.,  0.,\n",
       "        1.,  1.,  0.,  0.,  0.,  1.,  0.,  0.,  0.,  1.,  1.,  0.,  0.,\n",
       "        0.,  1.,  0.,  0.,  1.,  1.,  1.,  1.,  1.,  1.,  0.,  0.,  0.,\n",
       "        0.,  1.,  1.,  0.,  0.,  0.,  0.,  0.,  0.,  0.,  0.,  0.,  0.,\n",
       "        0.,  0.,  0.,  1.,  0.,  0.,  0.,  0.,  1.,  0.,  0.,  0.,  0.,\n",
       "        1.,  0.,  0.,  0.,  0.,  0.,  0.,  0.,  0.,  1.,  0.,  0.,  0.,\n",
       "        0.,  0.,  0.,  0.,  0.,  0.,  0.,  1.,  0.,  1.,  0.,  1.,  0.,\n",
       "        0.,  0.,  0.,  1.,  0.,  0.,  0.,  1.,  0.,  1.,  0.,  0.,  0.,\n",
       "        0.,  0.,  0.,  0.,  1.,  1.,  0.,  0.,  0.,  1.,  0.,  0.,  0.,\n",
       "        0.,  0.,  0.,  0.,  0.,  1.,  0.,  0.,  0.,  1.,  0.,  1.,  1.,\n",
       "        1.,  0.,  0.,  0.,  0.,  0.,  0.,  0.,  1.,  1.,  1.,  0.,  0.,\n",
       "        0.,  0.,  0.,  0.,  0.,  0.,  0.,  0.,  0.,  1.,  0.,  0.,  1.,\n",
       "        1.,  0.,  0.,  0.,  1.,  1.,  1.,  0.,  1.,  0.,  1.,  0.,  0.,\n",
       "        0.,  0.,  0.,  0.,  0.,  0.,  0.,  0.,  0.,  0.,  1.,  0.,  0.,\n",
       "        0.,  0.,  0.,  0.,  0.,  1.,  1.,  0.,  0.,  0.,  1.,  0.,  0.,\n",
       "        1.,  1.,  0.,  0.,  0.,  0.,  0.,  0.,  1.,  0.,  0.,  0.,  0.,\n",
       "        0.,  0.,  0.,  0.,  0.,  0.,  0.,  0.,  0.,  0.,  0.,  1.,  0.,\n",
       "        0.,  1.,  0.,  0.,  0.,  0.,  0.,  0.,  0.,  0.,  0.,  0.,  0.,\n",
       "        0.,  0.,  0.,  0.,  1.,  0.,  0.,  1.,  1.,  1.,  1.,  0.,  0.,\n",
       "        1.,  0.,  0.,  0.,  0.,  0.,  0.,  1.,  1.,  0.,  0.,  0.,  1.,\n",
       "        0.,  1.,  0.,  1.,  1.,  1.,  0.,  1.,  0.,  0.,  0.,  0.,  0.,\n",
       "        0.,  0.,  0.,  1.,  1.,  1.,  0.,  0.,  1.,  0.,  1.,  1.,  1.,\n",
       "        0.,  0.,  0.,  0.,  0.,  0.,  0.,  0.,  0.,  0.,  0.,  0.,  1.,\n",
       "        0.,  0.,  0.,  0.,  0.,  0.,  1.,  0.,  0.,  1.,  0.,  0.,  0.,\n",
       "        0.,  0.,  0.,  0.,  0.,  0.,  0.,  0.,  1.,  0.,  0.,  0.,  0.,\n",
       "        0.,  0.,  0.,  0.,  0.,  1.,  0.,  0.,  0.,  0.,  0.,  0.,  0.,\n",
       "        0.,  0.,  1.,  1.,  1.,  0.,  0.,  0.,  0.,  0.,  0.,  0.,  0.,\n",
       "        0.,  1.,  1.,  0.,  0.,  0.,  0.,  0.,  0.,  0.,  0.,  0.,  1.,\n",
       "        0.,  0.,  0.,  0.,  1.,  1.,  1.])"
      ]
     },
     "execution_count": 113,
     "metadata": {},
     "output_type": "execute_result"
    }
   ],
   "source": [
    "Y"
   ]
  },
  {
   "cell_type": "code",
   "execution_count": null,
   "metadata": {
    "collapsed": true
   },
   "outputs": [],
   "source": []
  }
 ],
 "metadata": {
  "kernelspec": {
   "display_name": "Python 3",
   "language": "python",
   "name": "python3"
  },
  "language_info": {
   "codemirror_mode": {
    "name": "ipython",
    "version": 3
   },
   "file_extension": ".py",
   "mimetype": "text/x-python",
   "name": "python",
   "nbconvert_exporter": "python",
   "pygments_lexer": "ipython3",
   "version": "3.6.3"
  }
 },
 "nbformat": 4,
 "nbformat_minor": 2
}
