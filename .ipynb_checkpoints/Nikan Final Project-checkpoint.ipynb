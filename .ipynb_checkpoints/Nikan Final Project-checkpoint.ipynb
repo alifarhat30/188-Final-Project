{
 "cells": [
  {
   "cell_type": "code",
   "execution_count": 1,
   "metadata": {},
   "outputs": [
    {
     "name": "stderr",
     "output_type": "stream",
     "text": [
      "C:\\Users\\Nikan\\Anaconda3\\lib\\site-packages\\sklearn\\cross_validation.py:41: DeprecationWarning: This module was deprecated in version 0.18 in favor of the model_selection module into which all the refactored classes and functions are moved. Also note that the interface of the new CV iterators are different from that of this module. This module will be removed in 0.20.\n",
      "  \"This module will be removed in 0.20.\", DeprecationWarning)\n"
     ]
    }
   ],
   "source": [
    "%matplotlib inline\n",
    "import numpy as np\n",
    "import scipy as sp\n",
    "import matplotlib.pyplot as plt\n",
    "import matplotlib.image as mpimg\n",
    "import sklearn as skl\n",
    "from scipy.io import loadmat\n",
    "import pandas as pd\n",
    "from sklearn.preprocessing import scale\n",
    "from sklearn import cross_validation\n",
    "from sklearn.preprocessing import scale\n",
    "from sklearn.cross_decomposition import PLSRegression"
   ]
  },
  {
   "cell_type": "code",
   "execution_count": 2,
   "metadata": {
    "collapsed": true
   },
   "outputs": [],
   "source": [
    "data = np.loadtxt(\"breast-cancer-wisconsin.data.csv\", delimiter=\",\")"
   ]
  },
  {
   "cell_type": "code",
   "execution_count": 3,
   "metadata": {
    "collapsed": true
   },
   "outputs": [],
   "source": [
    "for i in range(len(data[:,10])):\n",
    "    if data[i,10] == 2:\n",
    "        data[i,10] = 0\n",
    "    elif data[i,10] == 4:\n",
    "        data[i,10] = 1\n",
    "    \n",
    "X = data[:,1:10]\n",
    "Y = data[:,10]"
   ]
  },
  {
   "cell_type": "code",
   "execution_count": 4,
   "metadata": {
    "collapsed": true
   },
   "outputs": [],
   "source": [
    "PLS = PLSRegression(n_components = 2, max_iter = 1000)\n",
    "\n",
    "xSc, ySc = PLS.fit_transform(scale(X),scale(Y)) #xSc not the same as PLS.x_scores_ ?\n",
    "xScores2 = PLS.x_scores_\n",
    "r2 = PLS.score(scale(X),scale(Y))"
   ]
  },
  {
   "cell_type": "code",
   "execution_count": 5,
   "metadata": {},
   "outputs": [
    {
     "data": {
      "text/plain": [
       "0.83974134422938906"
      ]
     },
     "execution_count": 5,
     "metadata": {},
     "output_type": "execute_result"
    }
   ],
   "source": [
    "r2"
   ]
  },
  {
   "cell_type": "code",
   "execution_count": 6,
   "metadata": {
    "collapsed": true
   },
   "outputs": [],
   "source": [
    "#from sklearn.decomposition import PCA\n",
    "xloadings = PLS.x_loadings_\n",
    "yloadings = PLS.y_loadings_"
   ]
  },
  {
   "cell_type": "code",
   "execution_count": 7,
   "metadata": {
    "scrolled": true
   },
   "outputs": [
    {
     "data": {
      "image/png": "[encoded data removed]",
      "text/plain": [
       "<matplotlib.figure.Figure at 0x1e351f63518>"
      ]
     },
     "metadata": {},
     "output_type": "display_data"
    }
   ],
   "source": [
    "for i in range(len(xloadings[:,0])):\n",
    "    plt.scatter(xloadings[i,0], xloadings[i,1],)\n",
    "plt.scatter(yloadings[:,0], yloadings[:,1],)\n",
    "plt.legend(['Clump Thickness', 'Uniformity of Cell Size', 'Uniformity of Cell Shape','Marginal Adhesion','Single Epithelial Cell Size','Bare Nuclei','Bland Chromatin','Normal Nucleoli','Mitoses','Y-loadings'])\n",
    "plt.show()"
   ]
  },
  {
   "cell_type": "code",
   "execution_count": 14,
   "metadata": {
    "scrolled": true
   },
   "outputs": [
    {
     "data": {
      "image/png": "[encoded data removed]",
      "text/plain": [
       "<matplotlib.figure.Figure at 0x1e352712978>"
      ]
     },
     "metadata": {},
     "output_type": "display_data"
    },
    {
     "data": {
      "text/plain": [
       "0.80358757504426537"
      ]
     },
     "execution_count": 14,
     "metadata": {},
     "output_type": "execute_result"
    }
   ],
   "source": [
    "from sklearn.model_selection import LeaveOneOut\n",
    "from sklearn.metrics import r2_score\n",
    "loo = LeaveOneOut()\n",
    "Xs=scale(X)\n",
    "Ys=scale(Y)\n",
    "model = np.zeros(683)\n",
    "for train, test in loo.split(X):\n",
    "    \n",
    "    xSc, ySc = PLS.fit_transform((Xs[train]),(Ys[train])) #xSc not the same as PLS.x_scores_ ?\n",
    "\n",
    "    model[test] = PLS.predict(Xs[test])\n",
    "    \n",
    "#model_real = model*np.std(model)+np.mean(model)\n",
    "plt.xlabel('measured')\n",
    "plt.ylabel('predicted')\n",
    "plt.scatter(Y,(model))\n",
    "plt.show()\n",
    "r2_score((model),(Ys))"
   ]
  },
  {
   "cell_type": "code",
   "execution_count": 15,
   "metadata": {},
   "outputs": [
    {
     "data": {
      "text/plain": [
       "array([  1.11608998e-01,   7.00603921e-01,   7.95585723e-02,\n",
       "         6.56110661e-01,   1.07469913e-01,   1.31967138e+00,\n",
       "         3.02775653e-01,   3.13137892e-02,  -8.18390911e-02,\n",
       "         7.12133447e-02,  -3.62588538e-02,  -1.59737216e-02,\n",
       "         3.66013985e-01,   4.76049859e-02,   9.79795265e-01,\n",
       "         4.89642124e-01,   5.19210162e-02,   7.75967265e-02,\n",
       "         9.59835714e-01,   1.45733465e-01,   7.95872681e-01,\n",
       "         9.81631666e-01,   1.79740872e-02,  -2.42854637e-02,\n",
       "         5.08926838e-01,   2.53403959e-02,   8.59187958e-02,\n",
       "        -1.59737216e-02,  -3.24116834e-02,   6.04231718e-03,\n",
       "         9.70124693e-03,   8.99208805e-01,   2.46160259e-02,\n",
       "         3.95713075e-02,  -1.59737216e-02,   1.05823218e+00,\n",
       "         2.57882681e-01,   8.01795643e-01,   5.83366335e-01,\n",
       "         5.90137287e-01,   1.03601700e+00,   4.49341201e-01,\n",
       "         1.03865805e+00,  -5.99811994e-02,   7.77809876e-01,\n",
       "        -4.99742132e-02,   1.07469913e-01,   8.31974528e-01,\n",
       "         4.68069389e-01,   3.90920307e-01,   7.51144532e-01,\n",
       "         7.95612770e-01,   9.40207702e-01,   7.58448351e-01,\n",
       "         8.94822142e-01,   3.94698641e-01,   5.87044316e-01,\n",
       "         5.05458862e-01,   5.42624096e-01,  -1.40359569e-02,\n",
       "         9.89372993e-01,   4.40474293e-01,  -4.99742132e-02,\n",
       "         3.44875794e-01,   7.75967265e-02,   7.55097891e-01,\n",
       "         9.26538233e-01,  -8.16538585e-03,   1.29182640e-01,\n",
       "         6.86753887e-01,   1.93634161e-01,   1.03168466e+00,\n",
       "         5.50159712e-01,   7.52067994e-02,   1.50139330e-02,\n",
       "         1.39483416e-01,   1.15498378e-01,  -4.00705526e-03,\n",
       "         1.42979465e-01,   6.68240252e-02,   1.30905546e-01,\n",
       "         1.83842424e-01,   8.98174715e-01,   6.62356053e-01,\n",
       "         5.91240536e-01,   8.47754194e-01,   7.75967265e-02,\n",
       "         1.09075282e-02,  -2.42854637e-02,   7.22361187e-03,\n",
       "         7.75967265e-02,  -4.99742132e-02,   9.70124693e-03,\n",
       "        -2.42854637e-02,  -2.67393368e-02,   1.11608998e-01,\n",
       "         8.13389178e-01,   1.05731597e+00,   7.70753093e-01,\n",
       "         3.34305457e-01,   9.91916961e-02,   4.88453579e-01,\n",
       "         1.05291332e+00,   3.53733364e-01,   1.09945254e+00,\n",
       "         8.95623035e-01,  -1.77350112e-02,   8.22305542e-01,\n",
       "         1.39579144e-01,   7.21501499e-01,   9.28462313e-01,\n",
       "         1.15408523e+00,   1.75691922e-01,   6.82028982e-02,\n",
       "         3.48633598e-01,   8.13226807e-01,   2.02925258e-02,\n",
       "         9.88450540e-02,   1.22823886e-02,   1.32793418e-01,\n",
       "         1.14653805e+00,   7.06452042e-01,   9.35564378e-01,\n",
       "        -4.99742132e-02,   8.58808338e-01,   4.36447176e-02,\n",
       "         7.54232692e-01,   2.46109610e-02,   1.29182640e-01,\n",
       "         9.70124693e-03,   1.02437061e+00,   3.40664189e-02,\n",
       "         2.99446506e-02,   1.79796967e-01,   5.19210162e-02,\n",
       "        -7.68184480e-03,   7.35185757e-02,  -7.68184480e-03,\n",
       "        -4.16445207e-02,   6.57049261e-01,   6.82028982e-02,\n",
       "        -1.59737216e-02,   5.20679385e-01,  -2.04725408e-03,\n",
       "         3.18630066e-01,   1.09702493e+00,  -3.62588538e-02,\n",
       "         7.07199458e-01,   1.12005110e+00,   9.81659981e-02,\n",
       "        -7.56693449e-02,   6.78353692e-01,  -9.03599409e-03,\n",
       "         9.70124693e-03,   1.19511864e+00,   1.06608620e+00,\n",
       "         9.36933173e-02,   4.36447176e-02,  -6.02992692e-02,\n",
       "         1.29601886e-01,   9.58999002e-01,   6.90991864e-01,\n",
       "         4.36447176e-02,  -7.27351136e-02,  -7.68184480e-03,\n",
       "        -2.42854637e-02,  -4.99742132e-02,   1.31109174e+00,\n",
       "         8.48488775e-01,   1.02987730e+00,   9.70124693e-03,\n",
       "         7.50848948e-01,   7.75967265e-02,   5.86212188e-01,\n",
       "        -3.62588538e-02,  -7.56693449e-02,   1.45733465e-01,\n",
       "         1.07425512e+00,   8.75943830e-01,  -2.24511409e-03,\n",
       "         8.07049216e-01,   1.08271697e+00,   1.02919165e+00,\n",
       "         3.83517560e-02,   1.30092633e+00,   1.15599993e+00,\n",
       "         8.59187958e-02,  -2.42854637e-02,   4.36447176e-02,\n",
       "         7.75967265e-02,   8.45653700e-01,   1.56594872e-01,\n",
       "        -7.56693449e-02,   1.79740872e-02,   1.10464291e+00,\n",
       "         1.15814133e+00,  -2.42854637e-02,   1.11608998e-01,\n",
       "        -2.42854637e-02,   1.17768060e+00,   9.20719277e-01,\n",
       "        -3.62588538e-02,  -3.62588538e-02,   9.96979971e-02,\n",
       "         1.29980810e+00,   1.11503798e+00,  -2.42854637e-02,\n",
       "         1.38506766e+00,   1.38220128e+00,   9.32306852e-01,\n",
       "        -4.99742132e-02,  -2.42854637e-02,   9.54300183e-01,\n",
       "         1.89018034e-01,  -9.35449893e-03,   1.19021630e+00,\n",
       "         2.08175921e-01,   8.04823636e-01,   1.07345960e+00,\n",
       "        -4.99742132e-02,   1.13539146e+00,   9.51362062e-01,\n",
       "        -3.62588538e-02,   1.40173244e+00,   8.18249758e-01,\n",
       "         1.01341812e+00,   4.81464789e-01,   8.64600946e-01,\n",
       "         1.97296025e-01,   1.02573273e+00,   8.13257807e-01,\n",
       "         1.07852882e+00,   7.99503868e-01,   2.27181011e-01,\n",
       "         6.15988804e-02,   9.70124693e-03,   1.71518219e-01,\n",
       "        -2.42854637e-02,   1.62428840e-01,   1.25976778e+00,\n",
       "         6.48388072e-01,   1.58940212e-01,  -3.47314957e-02,\n",
       "         9.18502882e-01,   6.72481812e-01,   1.03601700e+00,\n",
       "         9.89372993e-01,   7.52999126e-01,  -7.68184480e-03,\n",
       "         1.79740872e-02,   4.36447176e-02,   6.98384414e-01,\n",
       "         1.00598903e+00,   1.19546525e+00,   1.13859821e+00,\n",
       "         1.02117575e+00,   7.56993920e-01,   1.92713822e-01,\n",
       "         9.71365961e-01,   6.12607051e-01,   8.51532347e-01,\n",
       "        -2.42854637e-02,   8.47557881e-01,   1.11608998e-01,\n",
       "         6.12607051e-01,   4.11046123e-01,   5.97416603e-02,\n",
       "         1.79740872e-02,  -4.99742132e-02,  -2.42854637e-02,\n",
       "         6.94956016e-01,   4.36447176e-02,   2.46160259e-02,\n",
       "         6.79530949e-01,   8.47609578e-01,   8.77004367e-01,\n",
       "         1.36819247e+00,   1.29410827e+00,   2.99446506e-02,\n",
       "         5.41991036e-01,   9.29000961e-01,  -7.56693449e-02,\n",
       "        -2.42854637e-02,   8.00591271e-01,   9.41062619e-01,\n",
       "         5.36058134e-01,   2.19394701e-01,   8.73269506e-01,\n",
       "         8.99946739e-01,  -2.42854637e-02,   1.31118124e+00,\n",
       "        -2.42854637e-02,   7.95959699e-01,   9.83918996e-01,\n",
       "        -2.42854637e-02,  -2.42854637e-02,   8.21415635e-01,\n",
       "         2.39440845e-01,  -4.00705526e-03,  -7.56693449e-02,\n",
       "         6.57675578e-01,  -7.56693449e-02,  -6.19416584e-02,\n",
       "         7.01848912e-01,   1.06849607e+00,   1.20016825e-02,\n",
       "         5.74595036e-01,   7.87237151e-01,   4.36447176e-02,\n",
       "         7.51025158e-01,  -2.42854637e-02,   9.10944944e-02,\n",
       "         6.92210982e-01,  -4.99742132e-02,   7.37292208e-01,\n",
       "         9.49374406e-01,   8.05231398e-01,   1.01721875e-01,\n",
       "         1.57792172e-01,   7.52405075e-01,   8.37906437e-01,\n",
       "        -7.56693449e-02,   8.03683467e-01,  -2.42854637e-02,\n",
       "        -6.19416584e-02,   8.12938484e-01,   8.61957888e-01,\n",
       "        -2.42854637e-02,  -4.16445207e-02,  -7.56693449e-02,\n",
       "         1.06082255e+00,  -7.56693449e-02,   1.60393812e-01,\n",
       "        -5.54361951e-02,   3.55387698e-01,   6.39782918e-01,\n",
       "         9.01736022e-02,   9.70124693e-03,   4.59859767e-01,\n",
       "         9.59724141e-01,  -4.99742132e-02,   8.00009629e-02,\n",
       "         2.85835706e-01,   1.15812310e+00,   8.28761820e-01,\n",
       "         7.16910155e-01,   1.25683655e+00,   7.80271204e-01,\n",
       "         1.54786359e-01,   2.61654539e-01,   9.70124693e-03,\n",
       "        -1.59737216e-02,   1.23203092e+00,   1.14350917e+00,\n",
       "        -3.24116834e-02,  -1.86789828e-02,   1.24133006e-01,\n",
       "        -3.24116834e-02,   7.35185757e-02,   1.00830978e-01,\n",
       "         3.95713075e-02,  -7.56693449e-02,  -4.99742132e-02,\n",
       "        -6.19416584e-02,   9.09854780e-02,   2.39406900e-01,\n",
       "        -7.56693449e-02,   1.02495217e+00,   1.15504577e-01,\n",
       "        -4.16445207e-02,  -4.16445207e-02,   7.57316289e-02,\n",
       "         8.33866754e-01,   2.20296950e-01,   1.22468007e-04,\n",
       "         1.49941093e-01,  -3.50576393e-02,   1.15591923e+00,\n",
       "         1.79740872e-02,  -8.76442986e-02,   1.26254772e-02,\n",
       "         1.79740872e-02,   4.36447176e-02,   2.62705323e-02,\n",
       "         5.33575671e-02,  -1.30746255e-02,   9.06646898e-01,\n",
       "        -7.68184480e-03,   1.67829774e-01,   1.00176845e-01,\n",
       "        -1.03499928e-02,  -4.99742132e-02,   9.28065827e-02,\n",
       "        -4.99742132e-02,   1.20775045e-01,   3.95713075e-02,\n",
       "        -4.99742132e-02,   1.09512593e+00,   1.33207175e-01,\n",
       "         9.02104840e-01,   3.28173147e-01,   1.07474906e+00,\n",
       "        -4.99742132e-02,   2.09388148e-01,   3.32929434e-02,\n",
       "         1.86170976e-01,   1.30453660e+00,   1.91679673e-01,\n",
       "         1.29182640e-01,  -7.68184480e-03,   1.49889719e+00,\n",
       "         2.08050491e-01,   7.44334853e-01,  -4.99742132e-02,\n",
       "        -1.59737216e-02,   4.80172513e-03,   1.81774681e-01,\n",
       "         1.02025805e-01,   6.31021485e-02,   8.24726238e-01,\n",
       "         9.91684033e-01,   7.75012390e-01,   2.62705323e-02,\n",
       "         9.94349235e-02,   6.02643685e-02,   1.03843354e+00,\n",
       "         2.54146937e-01,   2.61057452e-02,  -3.97284910e-02,\n",
       "         1.73591539e-01,  -4.16445207e-02,  -7.56693449e-02,\n",
       "         6.02643685e-02,  -8.76442986e-02,   1.14755421e+00,\n",
       "         6.98684202e-02,   6.02643685e-02,   2.21660647e-02,\n",
       "         9.89449248e-01,   8.97619611e-03,   4.27116173e-01,\n",
       "         1.13468126e+00,   1.03854042e+00,   8.18890052e-02,\n",
       "         1.03558077e-01,   9.01736022e-02,   1.36268169e-01,\n",
       "         1.24312053e-01,   4.23751126e-02,   2.62705323e-02,\n",
       "         1.05787757e+00,   1.09617591e+00,   9.26875600e-01,\n",
       "         2.62705323e-02,  -2.83536130e-02,   6.04231718e-03,\n",
       "         1.24312053e-01,   8.23819166e-02,   2.62705323e-02,\n",
       "         6.02643685e-02,  -7.68184480e-03,   4.78817005e-02,\n",
       "         2.62705323e-02,   7.95824731e-02,   9.86994637e-01,\n",
       "         4.83088277e-02,   1.65604893e-01,   1.23177512e+00,\n",
       "         1.19693692e+00,   8.18890052e-02,   1.41092583e-02,\n",
       "         6.04231718e-03,   1.24536082e+00,   4.60531891e-01,\n",
       "         3.47048999e-01,  -7.56693449e-02,   8.96423969e-01,\n",
       "         3.99956468e-02,   1.11509146e+00,   4.16572637e-01,\n",
       "         6.04231718e-03,  -8.76442986e-02,   4.55740448e-02,\n",
       "         5.19210162e-02,   5.19210162e-02,   1.45733465e-01,\n",
       "         5.19210162e-02,   6.68240252e-02,   7.75967265e-02,\n",
       "        -7.56693449e-02,   3.09465274e-02,   9.96140641e-01,\n",
       "         3.21666570e-02,   6.02643685e-02,  -4.16445207e-02,\n",
       "        -7.56693449e-02,   8.59187958e-02,   6.02643685e-02,\n",
       "         6.04231718e-03,   1.10221349e+00,   1.03638738e+00,\n",
       "        -8.76442986e-02,  -6.19416584e-02,   2.88334370e-02,\n",
       "         8.69105754e-01,  -6.37104650e-02,   3.82572178e-02,\n",
       "         7.55664448e-01,   9.24799390e-01,   1.79740872e-02,\n",
       "         7.22361187e-03,   2.62705323e-02,   7.75967265e-02,\n",
       "         1.52632423e-01,   3.99956468e-02,   8.79854537e-01,\n",
       "         9.28065827e-02,  -3.62588538e-02,   1.79740872e-02,\n",
       "        -1.59737216e-02,   3.39608048e-02,   1.11608998e-01,\n",
       "         1.33207175e-01,   5.19210162e-02,   1.20019344e-01,\n",
       "         1.21858354e-01,  -7.68184480e-03,   9.89482950e-02,\n",
       "         5.19210162e-02,   4.21888928e-02,   8.59187958e-02,\n",
       "         1.24310778e+00,  -5.36031851e-02,  -1.96318582e-02,\n",
       "         8.15672284e-01,   1.79740872e-02,  -2.42854637e-02,\n",
       "         1.41289663e-01,   2.65741767e-01,  -7.68184480e-03,\n",
       "         2.57382223e-01,   1.29845997e-01,   9.01736022e-02,\n",
       "        -1.59737216e-02,   8.59187958e-02,   1.11608998e-01,\n",
       "         1.11608998e-01,  -2.42854637e-02,   1.79740872e-02,\n",
       "         9.36933173e-02,   1.24098258e+00,   6.52444682e-02,\n",
       "         1.23795776e-01,   7.28146082e-01,   1.14367864e+00,\n",
       "         1.03233464e+00,   1.15281323e+00,   1.79740872e-02,\n",
       "        -4.99742132e-02,   8.48903507e-01,   1.33207175e-01,\n",
       "         8.59187958e-02,  -4.99742132e-02,  -4.99742132e-02,\n",
       "        -2.42854637e-02,   1.07524690e-01,   1.01963385e+00,\n",
       "         1.03112620e+00,  -7.68184480e-03,   1.47937740e-01,\n",
       "        -7.56693449e-02,   1.41415428e+00,   1.02025805e-01,\n",
       "         7.91547790e-01,   6.02643685e-02,   6.54610406e-01,\n",
       "         8.15841893e-01,   7.98591960e-01,   8.18890052e-02,\n",
       "         7.93968413e-01,   8.59187958e-02,   7.35185757e-02,\n",
       "         1.54865023e-01,   1.79740872e-02,   1.32725276e-01,\n",
       "         1.79740872e-02,  -6.19416584e-02,   5.19210162e-02,\n",
       "         6.70275162e-01,   7.45301724e-01,   1.06300061e+00,\n",
       "         4.11831132e-02,  -7.56693449e-02,   1.21647084e+00,\n",
       "         6.02643685e-02,   9.37777579e-01,   8.74069791e-01,\n",
       "         1.33123626e+00,   2.26545146e-02,  -2.79195054e-02,\n",
       "         9.51620590e-02,   1.79740872e-02,   5.19210162e-02,\n",
       "         8.59187958e-02,   1.79740872e-02,   3.83283492e-01,\n",
       "         2.05886480e-01,  -7.56693449e-02,   8.89175051e-02,\n",
       "         1.55467699e-01,   7.56349529e-01,   1.02242723e-01,\n",
       "        -4.16445207e-02,   2.62705323e-02,   1.57024922e-01,\n",
       "         8.59187958e-02,  -7.56693449e-02,   7.36725301e-01,\n",
       "        -7.68184480e-03,   5.72753372e-02,   1.05403896e+00,\n",
       "         2.01929957e-01,   2.62705323e-02,   9.01736022e-02,\n",
       "         5.61422538e-02,   1.79740872e-02,   1.79740872e-02,\n",
       "        -7.56693449e-02,  -4.16445207e-02,   1.79740872e-02,\n",
       "        -3.47314957e-02,  -4.58279415e-02,   9.77484189e-01,\n",
       "         1.79740872e-02,   1.27087890e-01,  -7.77790406e-04,\n",
       "         1.02025805e-01,   5.19210162e-02,   4.36447176e-02,\n",
       "         1.79740872e-02,   8.59187958e-02,   4.15264911e-01,\n",
       "         9.85622917e-01,  -7.56693449e-02,  -4.99742132e-02,\n",
       "         7.75967265e-02,  -6.70539907e-03,  -6.70539907e-03,\n",
       "         4.78227285e-02,  -7.56693449e-02,   1.06230914e-01,\n",
       "         4.36447176e-02,   5.58091559e-01,   1.00902983e+00,\n",
       "         8.85061520e-01,   7.78416365e-02,   9.70124693e-03,\n",
       "         1.32587738e-01,  -4.99742132e-02,   9.12624228e-02,\n",
       "        -2.83536130e-02,   6.02643685e-02,  -7.56693449e-02,\n",
       "        -4.16445207e-02,   1.41293006e+00,   1.07122114e+00,\n",
       "         1.27712691e-01,  -7.56693449e-02,  -7.56693449e-02,\n",
       "        -7.56693449e-02,  -7.56693449e-02,   5.01986044e-02,\n",
       "         2.62705323e-02,  -1.47320748e-01,  -4.58279415e-02,\n",
       "         7.75147637e-01,  -7.68184480e-03,   8.00558728e-03,\n",
       "         4.02205503e-02,  -4.16445207e-02,   9.00987587e-01,\n",
       "         7.38470655e-01,   8.13580397e-01])"
      ]
     },
     "execution_count": 15,
     "metadata": {},
     "output_type": "execute_result"
    }
   ],
   "source": [
    "model"
   ]
  },
  {
   "cell_type": "code",
   "execution_count": 10,
   "metadata": {},
   "outputs": [
    {
     "data": {
      "text/plain": [
       "array([ 0.,  0.,  0.,  0.,  0.,  1.,  0.,  0.,  0.,  0.,  0.,  0.,  1.,\n",
       "        0.,  1.,  1.,  0.,  0.,  1.,  0.,  1.,  1.,  0.,  0.,  1.,  0.,\n",
       "        0.,  0.,  0.,  0.,  0.,  1.,  0.,  0.,  0.,  1.,  0.,  1.,  1.,\n",
       "        1.,  1.,  1.,  1.,  0.,  1.,  0.,  0.,  1.,  1.,  1.,  1.,  1.,\n",
       "        1.,  1.,  1.,  1.,  1.,  1.,  1.,  0.,  1.,  1.,  0.,  1.,  0.,\n",
       "        1.,  1.,  0.,  0.,  1.,  0.,  1.,  1.,  0.,  0.,  0.,  0.,  0.,\n",
       "        0.,  0.,  0.,  0.,  1.,  1.,  1.,  1.,  0.,  0.,  0.,  0.,  0.,\n",
       "        0.,  0.,  0.,  0.,  0.,  1.,  1.,  1.,  1.,  0.,  1.,  1.,  1.,\n",
       "        1.,  1.,  0.,  1.,  0.,  1.,  1.,  1.,  0.,  0.,  0.,  1.,  0.,\n",
       "        0.,  0.,  0.,  1.,  1.,  1.,  0.,  1.,  0.,  1.,  0.,  0.,  0.,\n",
       "        1.,  0.,  0.,  0.,  0.,  0.,  0.,  0.,  0.,  1.,  0.,  0.,  1.,\n",
       "        0.,  0.,  1.,  0.,  1.,  1.,  0.,  0.,  1.,  0.,  0.,  1.,  1.,\n",
       "        0.,  0.,  0.,  0.,  1.,  1.,  0.,  0.,  0.,  0.,  0.,  1.,  1.,\n",
       "        1.,  0.,  1.,  0.,  1.,  0.,  0.,  0.,  1.,  1.,  0.,  1.,  1.,\n",
       "        1.,  0.,  1.,  1.,  0.,  0.,  0.,  0.,  0.,  0.,  0.,  0.,  1.,\n",
       "        1.,  0.,  0.,  0.,  1.,  1.,  0.,  0.,  0.,  1.,  1.,  0.,  1.,\n",
       "        1.,  1.,  0.,  0.,  1.,  0.,  0.,  1.,  1.,  1.,  1.,  0.,  1.,\n",
       "        1.,  0.,  1.,  1.,  1.,  0.,  1.,  0.,  1.,  1.,  1.,  1.,  0.,\n",
       "        0.,  0.,  0.,  0.,  0.,  1.,  1.,  0.,  0.,  1.,  0.,  1.,  1.,\n",
       "        1.,  0.,  0.,  0.,  0.,  1.,  1.,  1.,  1.,  1.,  0.,  1.,  1.,\n",
       "        1.,  0.,  1.,  0.,  1.,  1.,  0.,  0.,  0.,  0.,  1.,  0.,  0.,\n",
       "        1.,  1.,  1.,  1.,  1.,  0.,  1.,  1.,  0.,  0.,  1.,  1.,  0.,\n",
       "        0.,  1.,  1.,  0.,  1.,  0.,  1.,  1.,  0.,  0.,  1.,  0.,  0.,\n",
       "        0.,  1.,  0.,  0.,  1.,  1.,  0.,  0.,  1.,  0.,  1.,  0.,  0.,\n",
       "        1.,  0.,  1.,  1.,  1.,  0.,  0.,  1.,  1.,  0.,  1.,  0.,  0.,\n",
       "        1.,  1.,  0.,  0.,  0.,  1.,  0.,  0.,  0.,  1.,  1.,  0.,  0.,\n",
       "        0.,  1.,  0.,  0.,  1.,  1.,  1.,  1.,  1.,  1.,  0.,  0.,  0.,\n",
       "        0.,  1.,  1.,  0.,  0.,  0.,  0.,  0.,  0.,  0.,  0.,  0.,  0.,\n",
       "        0.,  0.,  0.,  1.,  0.,  0.,  0.,  0.,  1.,  0.,  0.,  0.,  0.,\n",
       "        1.,  0.,  0.,  0.,  0.,  0.,  0.,  0.,  0.,  1.,  0.,  0.,  0.,\n",
       "        0.,  0.,  0.,  0.,  0.,  0.,  0.,  1.,  0.,  1.,  0.,  1.,  0.,\n",
       "        0.,  0.,  0.,  1.,  0.,  0.,  0.,  1.,  0.,  1.,  0.,  0.,  0.,\n",
       "        0.,  0.,  0.,  0.,  1.,  1.,  0.,  0.,  0.,  1.,  0.,  0.,  0.,\n",
       "        0.,  0.,  0.,  0.,  0.,  1.,  0.,  0.,  0.,  1.,  0.,  1.,  1.,\n",
       "        1.,  0.,  0.,  0.,  0.,  0.,  0.,  0.,  1.,  1.,  1.,  0.,  0.,\n",
       "        0.,  0.,  0.,  0.,  0.,  0.,  0.,  0.,  0.,  1.,  0.,  0.,  1.,\n",
       "        1.,  0.,  0.,  0.,  1.,  1.,  1.,  0.,  1.,  0.,  1.,  0.,  0.,\n",
       "        0.,  0.,  0.,  0.,  0.,  0.,  0.,  0.,  0.,  0.,  1.,  0.,  0.,\n",
       "        0.,  0.,  0.,  0.,  0.,  1.,  1.,  0.,  0.,  0.,  1.,  0.,  0.,\n",
       "        1.,  1.,  0.,  0.,  0.,  0.,  0.,  0.,  1.,  0.,  0.,  0.,  0.,\n",
       "        0.,  0.,  0.,  0.,  0.,  0.,  0.,  0.,  0.,  0.,  0.,  1.,  0.,\n",
       "        0.,  1.,  0.,  0.,  0.,  0.,  0.,  0.,  0.,  0.,  0.,  0.,  0.,\n",
       "        0.,  0.,  0.,  0.,  1.,  0.,  0.,  1.,  1.,  1.,  1.,  0.,  0.,\n",
       "        1.,  0.,  0.,  0.,  0.,  0.,  0.,  1.,  1.,  0.,  0.,  0.,  1.,\n",
       "        0.,  1.,  0.,  1.,  1.,  1.,  0.,  1.,  0.,  0.,  0.,  0.,  0.,\n",
       "        0.,  0.,  0.,  1.,  1.,  1.,  0.,  0.,  1.,  0.,  1.,  1.,  1.,\n",
       "        0.,  0.,  0.,  0.,  0.,  0.,  0.,  0.,  0.,  0.,  0.,  0.,  1.,\n",
       "        0.,  0.,  0.,  0.,  0.,  0.,  1.,  0.,  0.,  1.,  0.,  0.,  0.,\n",
       "        0.,  0.,  0.,  0.,  0.,  0.,  0.,  0.,  1.,  0.,  0.,  0.,  0.,\n",
       "        0.,  0.,  0.,  0.,  0.,  1.,  0.,  0.,  0.,  0.,  0.,  0.,  0.,\n",
       "        0.,  0.,  1.,  1.,  1.,  0.,  0.,  0.,  0.,  0.,  0.,  0.,  0.,\n",
       "        0.,  1.,  1.,  0.,  0.,  0.,  0.,  0.,  0.,  0.,  0.,  0.,  1.,\n",
       "        0.,  0.,  0.,  0.,  1.,  1.,  1.])"
      ]
     },
     "execution_count": 10,
     "metadata": {},
     "output_type": "execute_result"
    }
   ],
   "source": [
    "Y"
   ]
  },
  {
   "cell_type": "code",
   "execution_count": null,
   "metadata": {
    "collapsed": true
   },
   "outputs": [],
   "source": []
  }
 ],
 "metadata": {
  "kernelspec": {
   "display_name": "Python 3",
   "language": "python",
   "name": "python3"
  },
  "language_info": {
   "codemirror_mode": {
    "name": "ipython",
    "version": 3
   },
   "file_extension": ".py",
   "mimetype": "text/x-python",
   "name": "python",
   "nbconvert_exporter": "python",
   "pygments_lexer": "ipython3",
   "version": "3.6.3"
  }
 },
 "nbformat": 4,
 "nbformat_minor": 2
}
